{
 "cells": [
  {
   "cell_type": "code",
   "execution_count": 3,
   "metadata": {},
   "outputs": [],
   "source": [
    "test_p = '/home/tonypeng/Workspace1/Hearing/Phear/data_folder/mix_data_1/npy_log/test/'\n",
    "val_p = '/home/tonypeng/Workspace1/Hearing/Phear/data_folder/mix_data_1/npy_log/val/'\n",
    "\n",
    "import pandas as pd\n",
    "import os \n",
    "\n",
    "fintest = os.listdir(test_p)\n",
    "finval = os.listdir(val_p)\n",
    "\n",
    "record = pd.read_csv('/home/tonypeng/Workspace1/Hearing/Phear/data_folder/mix_data_1/df_dev_mix_no_share_small.csv')\n",
    "record_test = record[(record['newfname']+'.npy').isin(fintest)]\n",
    "record_val = record[(record['newfname']+'.npy').isin(finval)]\n",
    "\n",
    "record_test.to_csv('/home/tonypeng/Workspace1/Hearing/Phear/data_folder/mix_data_1/record_test.csv', index=False)\n",
    "record_val.to_csv('/home/tonypeng/Workspace1/Hearing/Phear/data_folder/mix_data_1/record_val.csv', index=False)\n",
    "record_train = record[~(record['newfname']+'.npy').isin(fintest+finval)]\n",
    "record_train.to_csv('/home/tonypeng/Workspace1/Hearing/Phear/data_folder/mix_data_1/record_train.csv', index=False)\n"
   ]
  }
 ],
 "metadata": {
  "kernelspec": {
   "display_name": "hearing",
   "language": "python",
   "name": "python3"
  },
  "language_info": {
   "codemirror_mode": {
    "name": "ipython",
    "version": 3
   },
   "file_extension": ".py",
   "mimetype": "text/x-python",
   "name": "python",
   "nbconvert_exporter": "python",
   "pygments_lexer": "ipython3",
   "version": "3.8.18"
  }
 },
 "nbformat": 4,
 "nbformat_minor": 2
}
