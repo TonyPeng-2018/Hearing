{
 "cells": [
  {
   "cell_type": "code",
   "execution_count": 4,
   "metadata": {},
   "outputs": [],
   "source": [
    "path = '/home/tonypeng/Workspace1/Hearing/SemanticHearing/data/BinauralCuratedDataset/jams'\n",
    "tpath = path+'/train_org'\n",
    "\n",
    "# get 1k random from 100k data\n",
    "import os\n",
    "import random\n",
    "import shutil\n",
    "\n",
    "files = os.listdir(tpath)\n",
    "random.shuffle(files)\n",
    "files = files[:100]\n",
    "for file in files:\n",
    "    shutil.copytree(tpath+'/'+file, path+'/train/'+file)\n",
    "\n",
    "# get 100 random from 1k data\n",
    "vpath = path+'/val_org'\n",
    "files = os.listdir(vpath)\n",
    "random.shuffle(files)\n",
    "files = files[:20]\n",
    "for file in files:\n",
    "    shutil.copytree(vpath+'/'+file, path+'/val/'+file)\n",
    "\n"
   ]
  }
 ],
 "metadata": {
  "kernelspec": {
   "display_name": "hearing",
   "language": "python",
   "name": "python3"
  },
  "language_info": {
   "codemirror_mode": {
    "name": "ipython",
    "version": 3
   },
   "file_extension": ".py",
   "mimetype": "text/x-python",
   "name": "python",
   "nbconvert_exporter": "python",
   "pygments_lexer": "ipython3",
   "version": "3.8.18"
  }
 },
 "nbformat": 4,
 "nbformat_minor": 2
}
