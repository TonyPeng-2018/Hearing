{
 "cells": [
  {
   "cell_type": "code",
   "execution_count": null,
   "metadata": {},
   "outputs": [],
   "source": [
    "# we can see that data are in jams\n",
    "# What is the benefit?\n",
    "# https://en.wikipedia.org/wiki/JAM_notation#:~:text=JAM%20is%20both%20the%20software,is%20mainly%20focused%20on%20chords.\n",
    "# https://github.com/marl/jams\n"
   ]
  }
 ],
 "metadata": {
  "language_info": {
   "name": "python"
  }
 },
 "nbformat": 4,
 "nbformat_minor": 2
}
