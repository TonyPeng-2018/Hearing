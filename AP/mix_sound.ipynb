{
 "cells": [
  {
   "cell_type": "markdown",
   "metadata": {},
   "source": [
    "https://blog.csdn.net/sinat_28442665/article/details/84029633\n",
    "Show how to check the information about WAV\n",
    "https://blog.csdn.net/qq_38563206/article/details/126486544\n",
    "Show how to Mixing, overlaying audio, splicing audio, here we need to do overlaying audio."
   ]
  },
  {
   "cell_type": "markdown",
   "metadata": {},
   "source": [
    "So they use FSD50K, ESC-50, MUSDB18, DISCO\n",
    "https://research.google.com/audioset/download.html\n",
    "\n",
    "Starting from 2 sounds"
   ]
  },
  {
   "cell_type": "code",
   "execution_count": 32,
   "metadata": {},
   "outputs": [],
   "source": [
    "# read data from FSD50K\n",
    "datasetpath = '../data/BinauralCuratedDataset/FSD50K/'\n",
    "ds_dev_path = datasetpath + 'FSD50K.dev_audio/'\n",
    "ds_dev_gt_path = datasetpath + 'FSD50K.metadata/dev.csv'"
   ]
  },
  {
   "cell_type": "code",
   "execution_count": 54,
   "metadata": {},
   "outputs": [],
   "source": [
    "# read labels grom gt, and sort\n",
    "# import block\n",
    "import pandas as pd\n",
    "import os\n",
    "from tqdm import tqdm\n"
   ]
  },
  {
   "cell_type": "code",
   "execution_count": 55,
   "metadata": {},
   "outputs": [
    {
     "name": "stderr",
     "output_type": "stream",
     "text": [
      "40966it [00:47, 862.34it/s] \n"
     ]
    },
    {
     "data": {
      "text/plain": [
       "(40966, 2)"
      ]
     },
     "execution_count": 55,
     "metadata": {},
     "output_type": "execute_result"
    }
   ],
   "source": [
    "# get labels and seperate into single labels.\n",
    "df_dev_gt = pd.read_csv(ds_dev_gt_path)\n",
    "df_dev_gt = df_dev_gt.get(['fname', 'labels'])\n",
    "df_dev_gt_sep = pd.DataFrame(columns=['fname', 'label'])\n",
    "for i, v in tqdm(enumerate(df_dev_gt.index)):\n",
    "    t1 = df_dev_gt['labels'][i].split(',')\n",
    "    t2 = df_dev_gt['fname'][i]\n",
    "    l = len(t1)\n",
    "    for i2, v2 in enumerate(t1):\n",
    "        df_dev_gt_sep = pd.concat([df_dev_gt_sep, pd.DataFrame([[t2,v2]], columns=df_dev_gt_sep.columns)], ignore_index=True)\n",
    "df_dev_gt.shape\n",
    "# this may have a problem because some classes are too closed, for example keyboard and piano. It is a muti-label prediction. "
   ]
  },
  {
   "cell_type": "code",
   "execution_count": 59,
   "metadata": {},
   "outputs": [
    {
     "name": "stdout",
     "output_type": "stream",
     "text": [
      "(40966, 2)\n",
      "(114271, 2)\n"
     ]
    }
   ],
   "source": [
    "print(df_dev_gt.shape)\n",
    "print(df_dev_gt_sep.shape)"
   ]
  },
  {
   "cell_type": "code",
   "execution_count": null,
   "metadata": {},
   "outputs": [],
   "source": [
    "# create a two sound mixture.\n",
    "# select two data from the df_dev_gt data, where they dont share any same label. \n",
    "# if they have multiple labels, we choose a random one.\n",
    "\n",
    "def check_share_attribute(s1, s2):\n",
    "    l1 = s1.split(',')\n",
    "    l2 = s2.split(',')\n",
    "    if list(set(l1)&set(l2)):\n",
    "        return True\n",
    "    else:\n",
    "        return False\n",
    "    \n",
    "\n",
    "\n",
    "df_dev_mix_no_share = pd.DataFrame(columns=['newfname', 'fname1', 'fname2', 'labels', 'gt_label'])\n",
    "for i, v in tqdm(enumerate(df_dev_gt.index)):\n",
    "    for i2, v2 in enumerate(df_dev_gt.index):\n",
    "        if i >= i2:\n",
    "            continue\n",
    "        l1 = df_dev_gt['labels'][i]\n",
    "        l2 = df_dev_gt['labels'][i2]\n",
    "        if check_share_attribute(df_dev_gt['labels'][i])\n",
    "        \n",
    "        "
   ]
  }
 ],
 "metadata": {
  "kernelspec": {
   "display_name": "hearing",
   "language": "python",
   "name": "python3"
  },
  "language_info": {
   "codemirror_mode": {
    "name": "ipython",
    "version": 3
   },
   "file_extension": ".py",
   "mimetype": "text/x-python",
   "name": "python",
   "nbconvert_exporter": "python",
   "pygments_lexer": "ipython3",
   "version": "3.8.18"
  }
 },
 "nbformat": 4,
 "nbformat_minor": 2
}
